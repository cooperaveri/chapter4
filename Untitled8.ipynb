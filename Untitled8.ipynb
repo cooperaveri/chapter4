{
 "cells": [
  {
   "cell_type": "markdown",
   "id": "d7c7247f-46b9-4ebf-930c-f97406777ff3",
   "metadata": {},
   "source": [
    "# Chapter 4 exercises "
   ]
  },
  {
   "cell_type": "markdown",
   "id": "7618c7bb-3fc7-4f3b-ab39-5aa9c553e597",
   "metadata": {},
   "source": [
    "## Algorithm Workbench 2, 4"
   ]
  },
  {
   "cell_type": "markdown",
   "id": "4aea0cd8-06fb-413c-a783-fad4ee63dda5",
   "metadata": {},
   "source": [
    "### 2. Write a while loop that lets the user enter a number. Number should be added and sum displayed. loop should ask user if he or she wishes to perform the operation again. if so loop should repeat, otherwise it should terminate."
   ]
  },
  {
   "cell_type": "code",
   "execution_count": 5,
   "id": "ddfff4f5-491e-4fa3-90d7-f7c0f597cd35",
   "metadata": {},
   "outputs": [
    {
     "name": "stdin",
     "output_type": "stream",
     "text": [
      "Enter a number to exit:  40\n",
      "Enter a number to exit:  34\n",
      "Enter a number to exit:  21\n",
      "Enter a number to exit:  6\n",
      "Enter a number to exit:  8\n",
      "Enter a number to exit:  3\n",
      "Enter a number to exit:  a\n"
     ]
    },
    {
     "name": "stdout",
     "output_type": "stream",
     "text": [
      "Sum of entered numbers: 137.0\n"
     ]
    }
   ],
   "source": [
    "total = 25\n",
    "\n",
    "while True:\n",
    "    try:\n",
    "        num = float(input(\"Enter a number to exit: \"))\n",
    "        \n",
    "        total += num\n",
    "        \n",
    "    except ValueError:\n",
    "        \n",
    "        break\n",
    "\n",
    "\n",
    "print(\"Sum of entered numbers:\", total)\n"
   ]
  },
  {
   "cell_type": "markdown",
   "id": "584d4564-fdf7-44b3-b12e-6c70962475df",
   "metadata": {},
   "source": [
    "## 4. write a loop that asks user to enter a number. loop should iterate 10 times and keep a running total of numbers entered."
   ]
  },
  {
   "cell_type": "code",
   "execution_count": null,
   "id": "321a08ee-82e6-4a53-93dc-4af19b66ebe6",
   "metadata": {},
   "outputs": [],
   "source": []
  },
  {
   "cell_type": "markdown",
   "id": "27e94f86-a506-4b50-921e-63ac821569e8",
   "metadata": {},
   "source": [
    "## Programming Exercises 1,4, 11, 14"
   ]
  },
  {
   "cell_type": "code",
   "execution_count": null,
   "id": "27b11749-bc3e-4bd6-aafb-07d369e7c434",
   "metadata": {},
   "outputs": [],
   "source": []
  }
 ],
 "metadata": {
  "kernelspec": {
   "display_name": "anaconda-panel-2023.05-py310",
   "language": "python",
   "name": "conda-env-anaconda-panel-2023.05-py310-py"
  },
  "language_info": {
   "codemirror_mode": {
    "name": "ipython",
    "version": 3
   },
   "file_extension": ".py",
   "mimetype": "text/x-python",
   "name": "python",
   "nbconvert_exporter": "python",
   "pygments_lexer": "ipython3",
   "version": "3.11.4"
  },
  "toc-autonumbering": false
 },
 "nbformat": 4,
 "nbformat_minor": 5
}
