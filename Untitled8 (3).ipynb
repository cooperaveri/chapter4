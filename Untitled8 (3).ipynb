{
 "cells": [
  {
   "cell_type": "markdown",
   "id": "d7c7247f-46b9-4ebf-930c-f97406777ff3",
   "metadata": {},
   "source": [
    "# Chapter 4 exercises "
   ]
  },
  {
   "cell_type": "markdown",
   "id": "7618c7bb-3fc7-4f3b-ab39-5aa9c553e597",
   "metadata": {},
   "source": [
    "## Algorithm Workbench 2, 4"
   ]
  },
  {
   "cell_type": "markdown",
   "id": "4aea0cd8-06fb-413c-a783-fad4ee63dda5",
   "metadata": {},
   "source": [
    "### 2. Write a while loop that lets the user enter a number. Number should be added and sum displayed. loop should ask user if he or she wishes to perform the operation again. if so loop should repeat, otherwise it should terminate."
   ]
  },
  {
   "cell_type": "code",
   "execution_count": 5,
   "id": "ddfff4f5-491e-4fa3-90d7-f7c0f597cd35",
   "metadata": {},
   "outputs": [
    {
     "name": "stdin",
     "output_type": "stream",
     "text": [
      "Enter a number to exit:  40\n",
      "Enter a number to exit:  34\n",
      "Enter a number to exit:  21\n",
      "Enter a number to exit:  6\n",
      "Enter a number to exit:  8\n",
      "Enter a number to exit:  3\n",
      "Enter a number to exit:  a\n"
     ]
    },
    {
     "name": "stdout",
     "output_type": "stream",
     "text": [
      "Sum of entered numbers: 137.0\n"
     ]
    }
   ],
   "source": [
    "total = 25\n",
    "\n",
    "while True:\n",
    "    try:\n",
    "        num = float(input(\"Enter a number to exit: \"))\n",
    "        \n",
    "        total += num\n",
    "        \n",
    "    except ValueError:\n",
    "        \n",
    "        break\n",
    "\n",
    "\n",
    "print(\"Sum of entered numbers:\", total)\n"
   ]
  },
  {
   "cell_type": "markdown",
   "id": "584d4564-fdf7-44b3-b12e-6c70962475df",
   "metadata": {},
   "source": [
    "## 4. write a loop that asks user to enter a number. loop should iterate 10 times and keep a running total of numbers entered."
   ]
  },
  {
   "cell_type": "code",
   "execution_count": 12,
   "id": "321a08ee-82e6-4a53-93dc-4af19b66ebe6",
   "metadata": {},
   "outputs": [
    {
     "name": "stdin",
     "output_type": "stream",
     "text": [
      "Enter number 1 of 10:  5\n",
      "Enter number 2 of 10:  7\n",
      "Enter number 3 of 10:  34\n",
      "Enter number 4 of 10:  21\n",
      "Enter number 5 of 10:  90\n",
      "Enter number 6 of 10:  43\n",
      "Enter number 7 of 10:  11\n",
      "Enter number 8 of 10:  2\n",
      "Enter number 9 of 10:  97\n",
      "Enter number 10 of 10:  58\n"
     ]
    },
    {
     "name": "stdout",
     "output_type": "stream",
     "text": [
      "Sum of the 10 numbers entered: 368.0\n"
     ]
    }
   ],
   "source": [
    "total = 0\n",
    "\n",
    "for i in range(10):\n",
    "    try:\n",
    "        num = float(input(\"Enter number {} of 10: \".format(i + 1)))\n",
    "        \n",
    "        total += num\n",
    "        \n",
    "    except ValueError:\n",
    "        print(\"Invalid input. Please enter a number.\")\n",
    "\n",
    "print(\"Sum of the 10 numbers entered:\", total)\n"
   ]
  },
  {
   "cell_type": "markdown",
   "id": "27e94f86-a506-4b50-921e-63ac821569e8",
   "metadata": {},
   "source": [
    "## Programming Exercises 1,4, 11, 14"
   ]
  },
  {
   "cell_type": "markdown",
   "id": "ed518495-271d-4b4c-b0c3-4737965cfbc4",
   "metadata": {},
   "source": [
    "## 1. Bug Collector\n",
    "\n",
    "collects bug every day for 5 days. write a program that keeps a running total of the number of bugs collected during the 5 days. loop should ask for the number of bugs collected each day, when loop is finished, the program should display the total number of bugs collected."
   ]
  },
  {
   "cell_type": "code",
   "execution_count": 20,
   "id": "fa2d45c7-37d9-4069-a6bc-043ff175616b",
   "metadata": {},
   "outputs": [
    {
     "name": "stdin",
     "output_type": "stream",
     "text": [
      "enter the number of bugs collected on day 1 of 5:  50\n",
      "enter the number of bugs collected on day 2 of 5:  15\n",
      "enter the number of bugs collected on day 3 of 5:  23\n",
      "enter the number of bugs collected on day 4 of 5:  46\n",
      "enter the number of bugs collected on day 5 of 5:  5\n"
     ]
    },
    {
     "name": "stdout",
     "output_type": "stream",
     "text": [
      "total bugs collected in 5 days: 139\n"
     ]
    }
   ],
   "source": [
    "# variable to keep track of the total bugs\n",
    "\n",
    "total_bugs = 0\n",
    "\n",
    "# loop that repeats for 5 days\n",
    "\n",
    "for day in range(1, 6):\n",
    "    try:\n",
    "        # user enters the number of bugs collected for day\n",
    "        bugs_collected = int(input(\"enter the number of bugs collected on day {} of 5: \".format(day)))\n",
    "        \n",
    "        total_bugs += bugs_collected\n",
    "        \n",
    "    except ValueError:\n",
    "        \n",
    "        print(\"invalid input. please enter a number.\")\n",
    "\n",
    "print(\"total bugs collected in 5 days:\", total_bugs)"
   ]
  },
  {
   "cell_type": "markdown",
   "id": "f6253fe4-04f9-40cb-adbe-8effd396d0f9",
   "metadata": {},
   "source": [
    "## 4. Distance Traveled\n",
    "\n",
    "write a program that asks user for the speed of vehicle ( in mph ) and the number of hours it has traveled. it should then use a loop to display the distance the vehicle has traveled for each hour of that time period."
   ]
  },
  {
   "cell_type": "code",
   "execution_count": 25,
   "id": "69787c85-7f33-4078-8626-c5ad5d41e6b5",
   "metadata": {},
   "outputs": [
    {
     "ename": "SyntaxError",
     "evalue": "invalid syntax. Perhaps you forgot a comma? (2678064968.py, line 2)",
     "output_type": "error",
     "traceback": [
      "\u001b[0;36m  Cell \u001b[0;32mIn[25], line 2\u001b[0;36m\u001b[0m\n\u001b[0;31m    speed = float(input(\"enter the speed of the vehicle (in mph): \")\u001b[0m\n\u001b[0m                  ^\u001b[0m\n\u001b[0;31mSyntaxError\u001b[0m\u001b[0;31m:\u001b[0m invalid syntax. Perhaps you forgot a comma?\n"
     ]
    }
   ],
   "source": [
    "# ask user for the speed of the vehicle (in mph) and the number of hours traveled\n",
    "speed = float(input(\"enter the speed of the vehicle (in mph): \")\n",
    "hours = int(input(\"enter the number of hours the vehicle has traveled: \")\n",
    "\n",
    "print(\"\\nHour\\tDistance Traveled\")\n",
    "\n",
    "# use loop to calculate and display the distance for each hour\n",
    "for hour in range(1, hours + 1):\n",
    "   \n",
    "    distance = speed * hour\n",
    "    \n",
    "    print(\"{}\\t{}\".format(hour, distance))"
   ]
  },
  {
   "cell_type": "code",
   "execution_count": 27,
   "id": "f0082cdc-6979-423d-8ed4-b441e2003978",
   "metadata": {},
   "outputs": [
    {
     "name": "stdin",
     "output_type": "stream",
     "text": [
      "enter the speed of the vehicle (in mph):  55\n",
      "enter the number of hours the vehicle has traveled:  6\n"
     ]
    },
    {
     "name": "stdout",
     "output_type": "stream",
     "text": [
      "\n",
      "Hour\tDistance Traveled\n",
      "1\t55.0\n",
      "2\t110.0\n",
      "3\t165.0\n",
      "4\t220.0\n",
      "5\t275.0\n",
      "6\t330.0\n"
     ]
    }
   ],
   "source": [
    "# ask user for the speed of the vehicle (in mph) and the number of hours traveled\n",
    "speed = float(input(\"enter the speed of the vehicle (in mph): \"))\n",
    "hours = int(input(\"enter the number of hours the vehicle has traveled: \"))\n",
    "\n",
    "print(\"\\nHour\\tDistance Traveled\")\n",
    "\n",
    "# use loop to calculate and display the distance for each hour\n",
    "for hour in range(1, hours + 1):\n",
    "   \n",
    "    distance = speed * hour\n",
    "    \n",
    "    print(\"{}\\t{}\".format(hour, distance))"
   ]
  },
  {
   "cell_type": "markdown",
   "id": "b5fa64c0-423b-4644-baf6-8695404dc5c2",
   "metadata": {},
   "source": [
    "## 11. Weight Loss\n",
    "\n",
    "write a program that lets user enter their starting weight, then creates and displays a table showing what their expected weight will be at the end of each month for the next 6 months on this diet: active person cuts their calorie intake by 500 calories a day typically loose 4 pounds a month."
   ]
  },
  {
   "cell_type": "code",
   "execution_count": 32,
   "id": "bf376cc3-fe55-4118-899b-a8112974f58d",
   "metadata": {},
   "outputs": [
    {
     "name": "stdin",
     "output_type": "stream",
     "text": [
      "enter your starting weight (in pounds):  190\n"
     ]
    },
    {
     "name": "stdout",
     "output_type": "stream",
     "text": [
      "\n",
      "Month\tExpected Weight (in pounds)\n"
     ]
    },
    {
     "ename": "TypeError",
     "evalue": "unsupported operand type(s) for -=: 'str' and 'float'",
     "output_type": "error",
     "traceback": [
      "\u001b[0;31m---------------------------------------------------------------------------\u001b[0m",
      "\u001b[0;31mTypeError\u001b[0m                                 Traceback (most recent call last)",
      "Cell \u001b[0;32mIn[32], line 13\u001b[0m\n\u001b[1;32m     11\u001b[0m \u001b[38;5;66;03m# use loop to calculate and display the expected weight for each of the next 6 months\u001b[39;00m\n\u001b[1;32m     12\u001b[0m \u001b[38;5;28;01mfor\u001b[39;00m month \u001b[38;5;129;01min\u001b[39;00m \u001b[38;5;28mrange\u001b[39m(\u001b[38;5;241m1\u001b[39m, \u001b[38;5;241m7\u001b[39m):\n\u001b[0;32m---> 13\u001b[0m     current_weight \u001b[38;5;241m-\u001b[39m\u001b[38;5;241m=\u001b[39m (calories_cut_per_day \u001b[38;5;241m*\u001b[39m \u001b[38;5;241m30\u001b[39m) \u001b[38;5;241m/\u001b[39m \u001b[38;5;241m3500\u001b[39m \n\u001b[1;32m     15\u001b[0m     \u001b[38;5;28mprint\u001b[39m(\u001b[38;5;124m\"\u001b[39m\u001b[38;5;132;01m{}\u001b[39;00m\u001b[38;5;130;01m\\t\u001b[39;00m\u001b[38;5;132;01m{:.2f}\u001b[39;00m\u001b[38;5;124m\"\u001b[39m\u001b[38;5;241m.\u001b[39mformat(month, current_weight))\n",
      "\u001b[0;31mTypeError\u001b[0m: unsupported operand type(s) for -=: 'str' and 'float'"
     ]
    }
   ],
   "source": [
    "# ask user for their starting weight\n",
    "starting_weight = (input(\"enter your starting weight (in pounds): \"))\n",
    "\n",
    "calories_cut_per_day = 500\n",
    "pounds_lost_per_month = 4\n",
    "\n",
    "print(\"\\nMonth\\tExpected Weight (in pounds)\")\n",
    "\n",
    "current_weight = starting_weight\n",
    "\n",
    "# use loop to calculate and display the expected weight for each of the next 6 months\n",
    "for month in range(1, 7):\n",
    "    current_weight -= (calories_cut_per_day * 30) / 3500 \n",
    "    \n",
    "    print(\"{}\\t{:.2f}\".format(month, current_weight))\n",
    "\n"
   ]
  },
  {
   "cell_type": "code",
   "execution_count": 34,
   "id": "a656b9c8-e7c3-4537-bddf-8e88191f79b6",
   "metadata": {},
   "outputs": [
    {
     "name": "stdin",
     "output_type": "stream",
     "text": [
      "enter your starting weight (in pounds):  190\n"
     ]
    },
    {
     "name": "stdout",
     "output_type": "stream",
     "text": [
      "\n",
      "Month\tExpected Weight (in pounds)\n",
      "1\t185.71\n",
      "2\t181.43\n",
      "3\t177.14\n",
      "4\t172.86\n",
      "5\t168.57\n",
      "6\t164.29\n"
     ]
    }
   ],
   "source": [
    "# ask user for their starting weight\n",
    "starting_weight = float(input(\"enter your starting weight (in pounds): \"))\n",
    "\n",
    "calories_cut_per_day = 500\n",
    "pounds_lost_per_month = 4\n",
    "\n",
    "print(\"\\nMonth\\tExpected Weight (in pounds)\")\n",
    "\n",
    "current_weight = starting_weight\n",
    "\n",
    "# use loop to calculate and display the expected weight for each of the next 6 months\n",
    "for month in range(1, 7):\n",
    "    current_weight -= (calories_cut_per_day * 30) / 3500 \n",
    "    \n",
    "    print(\"{}\\t{:.2f}\".format(month, current_weight))\n",
    "\n"
   ]
  },
  {
   "cell_type": "code",
   "execution_count": 36,
   "id": "75ae05bc-e8ce-4c5f-bde8-7e3f7ee8942d",
   "metadata": {},
   "outputs": [
    {
     "name": "stdin",
     "output_type": "stream",
     "text": [
      "enter your starting weight (in pounds):  170\n"
     ]
    },
    {
     "name": "stdout",
     "output_type": "stream",
     "text": [
      "\n",
      "Month\tExpected Weight (in pounds)\n",
      "1\t165.71\n",
      "2\t161.43\n",
      "3\t157.14\n",
      "4\t152.86\n",
      "5\t148.57\n",
      "6\t144.29\n"
     ]
    }
   ],
   "source": [
    "# ask user for their starting weight\n",
    "starting_weight = float(input(\"enter your starting weight (in pounds): \"))\n",
    "\n",
    "calories_cut_per_day = 500\n",
    "pounds_lost_per_month = 4\n",
    "\n",
    "print(\"\\nMonth\\tExpected Weight (in pounds)\")\n",
    "\n",
    "current_weight = starting_weight\n",
    "\n",
    "# use loop to calculate and display the expected weight for each of the next 6 months\n",
    "for month in range(1, 7):\n",
    "    current_weight -= (calories_cut_per_day * 30) / 3500 \n",
    "    \n",
    "    print(\"{}\\t{:.2f}\".format(month, current_weight))\n",
    "\n"
   ]
  },
  {
   "cell_type": "markdown",
   "id": "d12f7f85-db7a-46f4-be80-37d35c2f5974",
   "metadata": {},
   "source": [
    "## 14. write a program that uses nested loops to draw this pattern:\n",
    "\n",
    "stars going from 6 in one line down to 1 taking one off each line"
   ]
  },
  {
   "cell_type": "code",
   "execution_count": 47,
   "id": "44e1fb14-4e74-450c-bc37-5670508af57d",
   "metadata": {},
   "outputs": [
    {
     "name": "stdout",
     "output_type": "stream",
     "text": [
      "* * * * * * \n",
      "* * * * * \n",
      "* * * * \n",
      "* * * \n",
      "* * \n",
      "* \n"
     ]
    }
   ],
   "source": [
    "# number of rows for the pattern\n",
    "num_rows = 6\n",
    "\n",
    "# outer loop for each row\n",
    "for row in range(num_rows, 0, -1):\n",
    "    # inner loop for printing stars in each row\n",
    "    for star in range(row):\n",
    "        print(\"*\", end=\" \")  \n",
    "    print()  \n"
   ]
  },
  {
   "cell_type": "code",
   "execution_count": null,
   "id": "009f4169-37cc-4285-af41-65edb01df955",
   "metadata": {},
   "outputs": [],
   "source": []
  }
 ],
 "metadata": {
  "kernelspec": {
   "display_name": "anaconda-panel-2023.05-py310",
   "language": "python",
   "name": "conda-env-anaconda-panel-2023.05-py310-py"
  },
  "language_info": {
   "codemirror_mode": {
    "name": "ipython",
    "version": 3
   },
   "file_extension": ".py",
   "mimetype": "text/x-python",
   "name": "python",
   "nbconvert_exporter": "python",
   "pygments_lexer": "ipython3",
   "version": "3.11.4"
  },
  "toc-autonumbering": false
 },
 "nbformat": 4,
 "nbformat_minor": 5
}
